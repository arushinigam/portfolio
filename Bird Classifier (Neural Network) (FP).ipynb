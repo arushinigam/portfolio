{
  "cells": [
    {
      "cell_type": "markdown",
      "metadata": {
        "id": "WxVFgIGeMo4R"
      },
      "source": [
        "Arushi Nigam"
      ]
    },
    {
      "cell_type": "markdown",
      "metadata": {
        "id": "UZQ5sfZIM3UO"
      },
      "source": [
        "Import Statements"
      ]
    },
    {
      "cell_type": "code",
      "execution_count": null,
      "metadata": {
        "colab": {
          "base_uri": "https://localhost:8080/"
        },
        "id": "5HbtHd0OCI3E",
        "outputId": "ac8a67fb-b26a-4455-da9a-23b3d4430a21"
      },
      "outputs": [
        {
          "name": "stdout",
          "output_type": "stream",
          "text": [
            "Looking in indexes: https://pypi.org/simple, https://us-python.pkg.dev/colab-wheels/public/simple/\n",
            "Collecting split-folders\n",
            "  Downloading split_folders-0.5.1-py3-none-any.whl (8.4 kB)\n",
            "Installing collected packages: split-folders\n",
            "Successfully installed split-folders-0.5.1\n"
          ]
        }
      ],
      "source": [
        "pip install split-folders"
      ]
    },
    {
      "cell_type": "code",
      "execution_count": null,
      "metadata": {
        "id": "MzJX8c8ZMXyR"
      },
      "outputs": [],
      "source": [
        "import cv2\n",
        "import pandas as pd\n",
        "import os\n",
        "from os import listdir\n",
        "from zipfile import ZipFile\n",
        "import random\n",
        "import cv2\n",
        "from google.colab.patches import cv2_imshow\n",
        "from PIL import Image, ImageEnhance\n",
        "import tensorflow as tf\n",
        "from tensorflow.keras.applications import EfficientNetB0\n",
        "from tensorflow.keras.applications import VGG16\n",
        "from tensorflow.keras import models\n",
        "from tensorflow.keras import layers\n",
        "from tensorflow.keras.preprocessing.image import img_to_array\n",
        "from tensorflow.keras.callbacks import EarlyStopping\n",
        "from tensorflow.keras.preprocessing import image_dataset_from_directory\n",
        "import splitfolders\n",
        "from tensorflow.keras.preprocessing.image import ImageDataGenerator\n",
        "import matplotlib.pyplot as plt\n",
        "import numpy as np\n",
        "from sklearn.metrics import classification_report\n",
        "from tensorflow.keras.applications.vgg16 import preprocess_input\n",
        "from keras.preprocessing import image"
      ]
    },
    {
      "cell_type": "markdown",
      "metadata": {
        "id": "cMSZZMV7zgyY"
      },
      "source": [
        "1b(i, ii, iii). and 1c(ii)."
      ]
    },
    {
      "cell_type": "code",
      "execution_count": null,
      "metadata": {
        "colab": {
          "base_uri": "https://localhost:8080/"
        },
        "id": "q4JDdahH_-37",
        "outputId": "bc9c3c1d-6327-451a-afdc-a58eefb93a7a"
      },
      "outputs": [
        {
          "name": "stderr",
          "output_type": "stream",
          "text": [
            "Copying files: 1176 files [08:17,  2.36 files/s]\n"
          ]
        }
      ],
      "source": [
        "# (Part 1b.ii): Splitting data into 0.7 for train, 0.15 for validation, and remaining for test\n",
        "splitfolders.ratio('./drive/MyDrive/Data/images', output=\"output\", seed=0, ratio=(.715, 0.16,0.125)) "
      ]
    },
    {
      "cell_type": "code",
      "execution_count": 26,
      "metadata": {
        "colab": {
          "base_uri": "https://localhost:8080/"
        },
        "id": "fug7ouniF6Kk",
        "outputId": "bd20eaef-07c1-4b3f-ea0b-b3fba079cf9e"
      },
      "outputs": [
        {
          "name": "stdout",
          "output_type": "stream",
          "text": [
            "Found 827 images belonging to 20 classes.\n",
            "Found 178 files belonging to 20 classes.\n",
            "Found 171 files belonging to 20 classes.\n",
            "Found 827 images belonging to 20 classes.\n",
            "Found 178 images belonging to 20 classes.\n",
            "Found 171 images belonging to 20 classes.\n"
          ]
        }
      ],
      "source": [
        "# ------- EfficientNet Special Pre-Processing ----------------\n",
        "\n",
        "# (Part 1c.ii): Image Augmentation\n",
        "preprocess = ImageDataGenerator(\n",
        "    horizontal_flip=True,\n",
        "    rotation_range=35,\n",
        "    zoom_range=0.4,\n",
        "    width_shift_range=0.4,\n",
        "    height_shift_range=0.2)\n",
        "\n",
        "# (Part 1b.i and 1b.iii): One-hot encoding via class_mode and resizing images into 224x224\n",
        "train = preprocess.flow_from_directory(\n",
        "        './output/train',\n",
        "        target_size=(224, 224),\n",
        "        batch_size=32,\n",
        "        class_mode='categorical')\n",
        "\n",
        "val = image_dataset_from_directory('./output/val',\n",
        "                                    shuffle=False,\n",
        "                                    label_mode='categorical',\n",
        "                                    image_size=(224, 224))\n",
        "\n",
        "test = image_dataset_from_directory('./output/test',\n",
        "                                    shuffle=False,\n",
        "                                    label_mode='categorical',\n",
        "                                    image_size=(224, 224))\n",
        "\n",
        "# ------- VGG Special Pre-Processing ----------------\n",
        "\n",
        "# (Part 1c.ii): Image Augmentation\n",
        "preprocessv = ImageDataGenerator(\n",
        "    preprocessing_function=preprocess_input,\n",
        "    horizontal_flip=True,\n",
        "    rotation_range=35,\n",
        "    zoom_range=0.4,\n",
        "    width_shift_range=0.4,\n",
        "    height_shift_range=0.2)\n",
        "\n",
        "vandtv = ImageDataGenerator(\n",
        "    preprocessing_function=preprocess_input,\n",
        "  )\n",
        "\n",
        "# (Part 1b.i and 1b.iii): One-hot encoding via class_mode and resizing images into 224x224\n",
        "trainv = preprocessv.flow_from_directory(\n",
        "        './output/train',\n",
        "        target_size=(224, 224),\n",
        "        batch_size=32,\n",
        "        class_mode='categorical')\n",
        "\n",
        "valv = vandtv.flow_from_directory(\n",
        "        './output/val',\n",
        "        target_size=(224, 224),\n",
        "        batch_size=32,\n",
        "        class_mode='categorical')\n",
        "\n",
        "testv = vandtv.flow_from_directory(\n",
        "        './output/test',\n",
        "        target_size=(224, 224),\n",
        "        batch_size=32,\n",
        "        shuffle=False,\n",
        "        class_mode='categorical')"
      ]
    },
    {
      "cell_type": "markdown",
      "metadata": {
        "id": "grZK0j6Z9ABn"
      },
      "source": [
        "1c(iii)."
      ]
    },
    {
      "cell_type": "code",
      "execution_count": null,
      "metadata": {
        "id": "t9aOVxrN5LFN"
      },
      "outputs": [],
      "source": [
        "# ------------ EfficientNet Model -----------------\n",
        "effnet = EfficientNetB0(include_top=False, weights='imagenet', classes=20)\n",
        "\n",
        "effmodel = models.Sequential()\n",
        "effmodel.add(effnet)\n",
        "effmodel.add(layers.GlobalMaxPooling2D())\n",
        "effmodel.add(layers.BatchNormalization())\n",
        "effmodel.add(layers.Dropout(0.2))\n",
        "effmodel.add(layers.Dense(256, activation='relu'))\n",
        "effmodel.add(layers.Dense(20, activation='softmax'))\n",
        "\n",
        "effnet.trainable = False\n",
        "\n",
        "earlystopping = tf.keras.callbacks.EarlyStopping(monitor='val_loss', patience=50, restore_best_weights=True)\n",
        "\n",
        "effmodel.compile(\n",
        "    loss=\"categorical_crossentropy\",\n",
        "    optimizer='adam',\n",
        "    metrics=[\"accuracy\"]\n",
        ")\n",
        "\n",
        "# ------------ VGG16 Model -----------------\n",
        "vgg = VGG16(include_top=False, weights='imagenet', classes=20)\n",
        "\n",
        "vggmodel = models.Sequential()\n",
        "vggmodel.add(vgg)\n",
        "vggmodel.add(layers.GlobalMaxPooling2D())\n",
        "vggmodel.add(layers.BatchNormalization())\n",
        "vggmodel.add(layers.Dropout(0.2))\n",
        "vggmodel.add(layers.Dense(256, activation='relu'))\n",
        "vggmodel.add(layers.Dense(20, activation='softmax'))\n",
        "\n",
        "vgg.trainable = False\n",
        "\n",
        "earlystopping = tf.keras.callbacks.EarlyStopping(monitor='val_loss', patience=50, restore_best_weights=True)\n",
        "\n",
        "vggmodel.compile(\n",
        "    loss=\"categorical_crossentropy\",\n",
        "    optimizer='adam',\n",
        "    metrics=[\"accuracy\"]\n",
        ")\n"
      ]
    },
    {
      "cell_type": "markdown",
      "metadata": {
        "id": "max8METm5oBk"
      },
      "source": [
        "1c(iv)."
      ]
    },
    {
      "cell_type": "code",
      "execution_count": null,
      "metadata": {
        "colab": {
          "base_uri": "https://localhost:8080/"
        },
        "id": "Qx1n2Rfe5rsc",
        "outputId": "96970429-a8ba-45dc-85a3-b77fadedbc5c"
      },
      "outputs": [
        {
          "name": "stdout",
          "output_type": "stream",
          "text": [
            "Epoch 1/100\n",
            "26/26 [==============================] - 19s 529ms/step - loss: 1.6934 - accuracy: 0.5187 - val_loss: 1.2262 - val_accuracy: 0.7584\n",
            "Epoch 2/100\n",
            "26/26 [==============================] - 12s 476ms/step - loss: 0.5937 - accuracy: 0.8102 - val_loss: 0.5745 - val_accuracy: 0.8596\n",
            "Epoch 3/100\n",
            "26/26 [==============================] - 12s 475ms/step - loss: 0.4383 - accuracy: 0.8694 - val_loss: 0.4986 - val_accuracy: 0.8820\n",
            "Epoch 4/100\n",
            "26/26 [==============================] - 12s 474ms/step - loss: 0.3653 - accuracy: 0.8960 - val_loss: 0.3874 - val_accuracy: 0.9157\n",
            "Epoch 5/100\n",
            "26/26 [==============================] - 12s 472ms/step - loss: 0.3554 - accuracy: 0.8863 - val_loss: 0.3927 - val_accuracy: 0.9101\n",
            "Epoch 6/100\n",
            "26/26 [==============================] - 12s 473ms/step - loss: 0.2661 - accuracy: 0.9202 - val_loss: 0.3766 - val_accuracy: 0.9101\n",
            "Epoch 7/100\n",
            "26/26 [==============================] - 12s 478ms/step - loss: 0.2805 - accuracy: 0.9154 - val_loss: 0.3227 - val_accuracy: 0.9045\n",
            "Epoch 8/100\n",
            "26/26 [==============================] - 12s 477ms/step - loss: 0.2407 - accuracy: 0.9202 - val_loss: 0.3198 - val_accuracy: 0.9045\n",
            "Epoch 9/100\n",
            "26/26 [==============================] - 12s 470ms/step - loss: 0.2294 - accuracy: 0.9214 - val_loss: 0.3339 - val_accuracy: 0.9270\n",
            "Epoch 10/100\n",
            "26/26 [==============================] - 12s 473ms/step - loss: 0.2659 - accuracy: 0.9093 - val_loss: 0.2705 - val_accuracy: 0.9438\n",
            "Epoch 11/100\n",
            "26/26 [==============================] - 12s 472ms/step - loss: 0.1973 - accuracy: 0.9407 - val_loss: 0.3186 - val_accuracy: 0.9270\n",
            "Epoch 12/100\n",
            "26/26 [==============================] - 12s 466ms/step - loss: 0.1652 - accuracy: 0.9492 - val_loss: 0.3585 - val_accuracy: 0.9157\n",
            "Epoch 13/100\n",
            "26/26 [==============================] - 12s 471ms/step - loss: 0.2106 - accuracy: 0.9347 - val_loss: 0.3727 - val_accuracy: 0.9270\n",
            "Epoch 14/100\n",
            "26/26 [==============================] - 12s 468ms/step - loss: 0.1745 - accuracy: 0.9444 - val_loss: 0.3689 - val_accuracy: 0.9045\n",
            "Epoch 15/100\n",
            "26/26 [==============================] - 12s 467ms/step - loss: 0.2250 - accuracy: 0.9335 - val_loss: 0.3981 - val_accuracy: 0.8989\n",
            "Epoch 16/100\n",
            "26/26 [==============================] - 12s 467ms/step - loss: 0.1959 - accuracy: 0.9371 - val_loss: 0.3709 - val_accuracy: 0.8933\n",
            "Epoch 17/100\n",
            "26/26 [==============================] - 12s 468ms/step - loss: 0.1672 - accuracy: 0.9480 - val_loss: 0.3625 - val_accuracy: 0.9101\n",
            "Epoch 18/100\n",
            "26/26 [==============================] - 12s 470ms/step - loss: 0.1885 - accuracy: 0.9432 - val_loss: 0.4314 - val_accuracy: 0.8876\n",
            "Epoch 19/100\n",
            "26/26 [==============================] - 12s 473ms/step - loss: 0.1559 - accuracy: 0.9468 - val_loss: 0.3461 - val_accuracy: 0.9157\n",
            "Epoch 20/100\n",
            "26/26 [==============================] - 12s 477ms/step - loss: 0.1247 - accuracy: 0.9625 - val_loss: 0.3494 - val_accuracy: 0.9157\n",
            "Epoch 21/100\n",
            "26/26 [==============================] - 12s 470ms/step - loss: 0.1671 - accuracy: 0.9528 - val_loss: 0.3680 - val_accuracy: 0.9157\n",
            "Epoch 22/100\n",
            "26/26 [==============================] - 12s 469ms/step - loss: 0.1720 - accuracy: 0.9480 - val_loss: 0.4045 - val_accuracy: 0.9101\n",
            "Epoch 23/100\n",
            "26/26 [==============================] - 12s 468ms/step - loss: 0.1641 - accuracy: 0.9480 - val_loss: 0.3763 - val_accuracy: 0.9101\n",
            "Epoch 24/100\n",
            "26/26 [==============================] - 12s 469ms/step - loss: 0.1461 - accuracy: 0.9565 - val_loss: 0.3420 - val_accuracy: 0.9270\n",
            "Epoch 25/100\n",
            "26/26 [==============================] - 12s 466ms/step - loss: 0.1313 - accuracy: 0.9528 - val_loss: 0.3323 - val_accuracy: 0.9157\n",
            "Epoch 26/100\n",
            "26/26 [==============================] - 12s 471ms/step - loss: 0.1816 - accuracy: 0.9492 - val_loss: 0.3905 - val_accuracy: 0.9326\n",
            "Epoch 27/100\n",
            "26/26 [==============================] - 12s 475ms/step - loss: 0.1329 - accuracy: 0.9589 - val_loss: 0.3881 - val_accuracy: 0.9213\n",
            "Epoch 28/100\n",
            "26/26 [==============================] - 12s 471ms/step - loss: 0.1461 - accuracy: 0.9541 - val_loss: 0.3680 - val_accuracy: 0.9045\n",
            "Epoch 29/100\n",
            "26/26 [==============================] - 12s 469ms/step - loss: 0.2056 - accuracy: 0.9407 - val_loss: 0.3982 - val_accuracy: 0.9045\n",
            "Epoch 30/100\n",
            "26/26 [==============================] - 12s 471ms/step - loss: 0.1624 - accuracy: 0.9516 - val_loss: 0.3616 - val_accuracy: 0.9045\n",
            "Epoch 31/100\n",
            "26/26 [==============================] - 12s 470ms/step - loss: 0.1369 - accuracy: 0.9565 - val_loss: 0.4331 - val_accuracy: 0.9045\n",
            "Epoch 32/100\n",
            "26/26 [==============================] - 12s 470ms/step - loss: 0.1482 - accuracy: 0.9528 - val_loss: 0.3934 - val_accuracy: 0.9270\n",
            "Epoch 33/100\n",
            "26/26 [==============================] - 12s 469ms/step - loss: 0.1536 - accuracy: 0.9625 - val_loss: 0.3591 - val_accuracy: 0.9382\n",
            "Epoch 34/100\n",
            "26/26 [==============================] - 12s 470ms/step - loss: 0.1346 - accuracy: 0.9553 - val_loss: 0.3432 - val_accuracy: 0.9213\n",
            "Epoch 35/100\n",
            "26/26 [==============================] - 12s 469ms/step - loss: 0.1440 - accuracy: 0.9516 - val_loss: 0.3593 - val_accuracy: 0.9382\n",
            "Epoch 36/100\n",
            "26/26 [==============================] - 12s 469ms/step - loss: 0.1345 - accuracy: 0.9577 - val_loss: 0.3214 - val_accuracy: 0.9382\n",
            "Epoch 37/100\n",
            "26/26 [==============================] - 12s 472ms/step - loss: 0.1326 - accuracy: 0.9625 - val_loss: 0.3880 - val_accuracy: 0.9382\n",
            "Epoch 38/100\n",
            "26/26 [==============================] - 12s 468ms/step - loss: 0.1257 - accuracy: 0.9601 - val_loss: 0.4291 - val_accuracy: 0.9101\n",
            "Epoch 39/100\n",
            "26/26 [==============================] - 12s 467ms/step - loss: 0.1465 - accuracy: 0.9577 - val_loss: 0.4810 - val_accuracy: 0.9157\n",
            "Epoch 40/100\n",
            "26/26 [==============================] - 12s 469ms/step - loss: 0.1544 - accuracy: 0.9565 - val_loss: 0.4204 - val_accuracy: 0.9213\n",
            "Epoch 41/100\n",
            "26/26 [==============================] - 12s 469ms/step - loss: 0.0835 - accuracy: 0.9746 - val_loss: 0.4779 - val_accuracy: 0.8933\n",
            "Epoch 42/100\n",
            "26/26 [==============================] - 12s 474ms/step - loss: 0.1498 - accuracy: 0.9504 - val_loss: 0.5040 - val_accuracy: 0.9101\n",
            "Epoch 43/100\n",
            "26/26 [==============================] - 12s 472ms/step - loss: 0.1161 - accuracy: 0.9686 - val_loss: 0.4815 - val_accuracy: 0.9101\n",
            "Epoch 44/100\n",
            "26/26 [==============================] - 12s 469ms/step - loss: 0.1258 - accuracy: 0.9625 - val_loss: 0.4637 - val_accuracy: 0.9101\n",
            "Epoch 45/100\n",
            "26/26 [==============================] - 12s 471ms/step - loss: 0.1168 - accuracy: 0.9601 - val_loss: 0.4786 - val_accuracy: 0.8989\n",
            "Epoch 46/100\n",
            "26/26 [==============================] - 12s 468ms/step - loss: 0.1178 - accuracy: 0.9649 - val_loss: 0.4911 - val_accuracy: 0.8876\n",
            "Epoch 47/100\n",
            "26/26 [==============================] - 12s 468ms/step - loss: 0.1214 - accuracy: 0.9589 - val_loss: 0.5432 - val_accuracy: 0.8989\n",
            "Epoch 48/100\n",
            "26/26 [==============================] - 12s 469ms/step - loss: 0.1263 - accuracy: 0.9601 - val_loss: 0.5672 - val_accuracy: 0.8820\n",
            "Epoch 49/100\n",
            "26/26 [==============================] - 12s 467ms/step - loss: 0.1404 - accuracy: 0.9649 - val_loss: 0.4887 - val_accuracy: 0.8820\n",
            "Epoch 50/100\n",
            "26/26 [==============================] - 12s 467ms/step - loss: 0.1018 - accuracy: 0.9698 - val_loss: 0.4575 - val_accuracy: 0.8989\n",
            "Epoch 51/100\n",
            "26/26 [==============================] - 12s 467ms/step - loss: 0.1151 - accuracy: 0.9637 - val_loss: 0.4358 - val_accuracy: 0.9045\n",
            "Epoch 52/100\n",
            "26/26 [==============================] - 12s 467ms/step - loss: 0.1012 - accuracy: 0.9686 - val_loss: 0.5080 - val_accuracy: 0.8764\n",
            "Epoch 53/100\n",
            "26/26 [==============================] - 12s 467ms/step - loss: 0.1458 - accuracy: 0.9589 - val_loss: 0.3803 - val_accuracy: 0.9157\n",
            "Epoch 54/100\n",
            "26/26 [==============================] - 12s 476ms/step - loss: 0.1246 - accuracy: 0.9686 - val_loss: 0.4390 - val_accuracy: 0.9101\n",
            "Epoch 55/100\n",
            "26/26 [==============================] - 12s 467ms/step - loss: 0.1337 - accuracy: 0.9649 - val_loss: 0.4057 - val_accuracy: 0.9101\n",
            "Epoch 56/100\n",
            "26/26 [==============================] - 12s 469ms/step - loss: 0.1674 - accuracy: 0.9528 - val_loss: 0.4236 - val_accuracy: 0.9213\n",
            "Epoch 57/100\n",
            "26/26 [==============================] - 12s 468ms/step - loss: 0.1235 - accuracy: 0.9698 - val_loss: 0.3845 - val_accuracy: 0.8989\n",
            "Epoch 58/100\n",
            "26/26 [==============================] - 12s 470ms/step - loss: 0.1232 - accuracy: 0.9698 - val_loss: 0.4469 - val_accuracy: 0.8989\n",
            "Epoch 59/100\n",
            "26/26 [==============================] - 12s 476ms/step - loss: 0.1245 - accuracy: 0.9661 - val_loss: 0.4915 - val_accuracy: 0.9045\n",
            "Epoch 60/100\n",
            "26/26 [==============================] - 12s 479ms/step - loss: 0.1098 - accuracy: 0.9637 - val_loss: 0.4325 - val_accuracy: 0.9101\n"
          ]
        }
      ],
      "source": [
        "# ------------ EfficientNet Model -----------------\n",
        "model_run = effmodel.fit(\n",
        "  train,\n",
        "  validation_data=val,\n",
        "  epochs=100,\n",
        "  callbacks=[earlystopping]\n",
        ")"
      ]
    },
    {
      "cell_type": "code",
      "execution_count": null,
      "metadata": {
        "colab": {
          "base_uri": "https://localhost:8080/",
          "height": 316
        },
        "id": "PMHvYuAN7nov",
        "outputId": "2bb7d6cb-c7f8-43f3-fc7c-c0c4038fc2d1"
      },
      "outputs": [
        {
          "data": {
            "text/plain": [
              "<Figure size 432x288 with 0 Axes>"
            ]
          },
          "execution_count": 14,
          "metadata": {},
          "output_type": "execute_result"
        },
        {
          "data": {
            "image/png": "[encoded data removed]",
            "text/plain": [
              "<Figure size 432x288 with 1 Axes>"
            ]
          },
          "metadata": {
            "needs_background": "light"
          },
          "output_type": "display_data"
        },
        {
          "data": {
            "text/plain": [
              "<Figure size 432x288 with 0 Axes>"
            ]
          },
          "metadata": {},
          "output_type": "display_data"
        }
      ],
      "source": [
        "# ------------ EfficientNet Model -----------------\n",
        "accuracies = model_run.history['accuracy']\n",
        "\n",
        "trainingerror = [];\n",
        "\n",
        "for acc in accuracies:\n",
        "  trainingerror.append(1-acc)\n",
        "\n",
        "valaccuracies = model_run.history['val_accuracy']\n",
        "\n",
        "valtrainingerror = [];\n",
        "for acc in valaccuracies:\n",
        "  valtrainingerror.append(1-acc)\n",
        "\n",
        "epochs = [];\n",
        "for i in range(len(trainingerror)):\n",
        "  epochs.append(i)\n",
        "  \n",
        "plt.plot(epochs, trainingerror, 'r', label='Training Error')\n",
        "plt.plot(epochs, valtrainingerror, 'b', label='Validation Error')\n",
        "plt.title('EffNet Errors Vs. Epochs')\n",
        "plt.legend()\n",
        "\n",
        "plt.figure()"
      ]
    },
    {
      "cell_type": "code",
      "execution_count": null,
      "metadata": {
        "colab": {
          "base_uri": "https://localhost:8080/"
        },
        "id": "E3BxE8P-_mWE",
        "outputId": "6e5f2325-d30c-46fd-b3ab-a9cd2cbd5973"
      },
      "outputs": [
        {
          "name": "stdout",
          "output_type": "stream",
          "text": [
            "Epoch 1/100\n",
            "26/26 [==============================] - 15s 544ms/step - loss: 2.6057 - accuracy: 0.2370 - val_loss: 2.2692 - val_accuracy: 0.5056\n",
            "Epoch 2/100\n",
            "26/26 [==============================] - 14s 533ms/step - loss: 1.3548 - accuracy: 0.5937 - val_loss: 0.9179 - val_accuracy: 0.7416\n",
            "Epoch 3/100\n",
            "26/26 [==============================] - 14s 534ms/step - loss: 1.0014 - accuracy: 0.7098 - val_loss: 0.7018 - val_accuracy: 0.7697\n",
            "Epoch 4/100\n",
            "26/26 [==============================] - 14s 527ms/step - loss: 0.7784 - accuracy: 0.7630 - val_loss: 0.6222 - val_accuracy: 0.8146\n",
            "Epoch 5/100\n",
            "26/26 [==============================] - 14s 525ms/step - loss: 0.7012 - accuracy: 0.7848 - val_loss: 0.5820 - val_accuracy: 0.8090\n",
            "Epoch 6/100\n",
            "26/26 [==============================] - 14s 528ms/step - loss: 0.6050 - accuracy: 0.8222 - val_loss: 0.5331 - val_accuracy: 0.8371\n",
            "Epoch 7/100\n",
            "26/26 [==============================] - 14s 526ms/step - loss: 0.5676 - accuracy: 0.8186 - val_loss: 0.5375 - val_accuracy: 0.8371\n",
            "Epoch 8/100\n",
            "26/26 [==============================] - 14s 525ms/step - loss: 0.4791 - accuracy: 0.8476 - val_loss: 0.5837 - val_accuracy: 0.8371\n",
            "Epoch 9/100\n",
            "26/26 [==============================] - 14s 526ms/step - loss: 0.4413 - accuracy: 0.8573 - val_loss: 0.5844 - val_accuracy: 0.8258\n",
            "Epoch 10/100\n",
            "26/26 [==============================] - 14s 523ms/step - loss: 0.4293 - accuracy: 0.8634 - val_loss: 0.5214 - val_accuracy: 0.8427\n",
            "Epoch 11/100\n",
            "26/26 [==============================] - 14s 527ms/step - loss: 0.3850 - accuracy: 0.8742 - val_loss: 0.5537 - val_accuracy: 0.8483\n",
            "Epoch 12/100\n",
            "26/26 [==============================] - 14s 526ms/step - loss: 0.4122 - accuracy: 0.8706 - val_loss: 0.5407 - val_accuracy: 0.8483\n",
            "Epoch 13/100\n",
            "26/26 [==============================] - 14s 529ms/step - loss: 0.3845 - accuracy: 0.8694 - val_loss: 0.5166 - val_accuracy: 0.8427\n",
            "Epoch 14/100\n",
            "26/26 [==============================] - 14s 524ms/step - loss: 0.3501 - accuracy: 0.8900 - val_loss: 0.5758 - val_accuracy: 0.8539\n",
            "Epoch 15/100\n",
            "26/26 [==============================] - 14s 523ms/step - loss: 0.3599 - accuracy: 0.8888 - val_loss: 0.5793 - val_accuracy: 0.8596\n",
            "Epoch 16/100\n",
            "26/26 [==============================] - 14s 521ms/step - loss: 0.3138 - accuracy: 0.9093 - val_loss: 0.5882 - val_accuracy: 0.8539\n",
            "Epoch 17/100\n",
            "26/26 [==============================] - 14s 521ms/step - loss: 0.2977 - accuracy: 0.9021 - val_loss: 0.5848 - val_accuracy: 0.8539\n",
            "Epoch 18/100\n",
            "26/26 [==============================] - 14s 522ms/step - loss: 0.3338 - accuracy: 0.8984 - val_loss: 0.5733 - val_accuracy: 0.8596\n",
            "Epoch 19/100\n",
            "26/26 [==============================] - 14s 527ms/step - loss: 0.2994 - accuracy: 0.9081 - val_loss: 0.5881 - val_accuracy: 0.8483\n",
            "Epoch 20/100\n",
            "26/26 [==============================] - 14s 528ms/step - loss: 0.2819 - accuracy: 0.9141 - val_loss: 0.5864 - val_accuracy: 0.8483\n",
            "Epoch 21/100\n",
            "26/26 [==============================] - 14s 526ms/step - loss: 0.3217 - accuracy: 0.8948 - val_loss: 0.5602 - val_accuracy: 0.8315\n",
            "Epoch 22/100\n",
            "26/26 [==============================] - 14s 523ms/step - loss: 0.2760 - accuracy: 0.9190 - val_loss: 0.5313 - val_accuracy: 0.8596\n",
            "Epoch 23/100\n",
            "26/26 [==============================] - 14s 525ms/step - loss: 0.2697 - accuracy: 0.9190 - val_loss: 0.5137 - val_accuracy: 0.8652\n",
            "Epoch 24/100\n",
            "26/26 [==============================] - 14s 525ms/step - loss: 0.2475 - accuracy: 0.9202 - val_loss: 0.4801 - val_accuracy: 0.8596\n",
            "Epoch 25/100\n",
            "26/26 [==============================] - 14s 525ms/step - loss: 0.2562 - accuracy: 0.9129 - val_loss: 0.5512 - val_accuracy: 0.8764\n",
            "Epoch 26/100\n",
            "26/26 [==============================] - 14s 532ms/step - loss: 0.2799 - accuracy: 0.9129 - val_loss: 0.5378 - val_accuracy: 0.8596\n",
            "Epoch 27/100\n",
            "26/26 [==============================] - 14s 532ms/step - loss: 0.2291 - accuracy: 0.9299 - val_loss: 0.5540 - val_accuracy: 0.8708\n",
            "Epoch 28/100\n",
            "26/26 [==============================] - 14s 531ms/step - loss: 0.2564 - accuracy: 0.9178 - val_loss: 0.5360 - val_accuracy: 0.8596\n",
            "Epoch 29/100\n",
            "26/26 [==============================] - 14s 529ms/step - loss: 0.2242 - accuracy: 0.9262 - val_loss: 0.5330 - val_accuracy: 0.8652\n",
            "Epoch 30/100\n",
            "26/26 [==============================] - 14s 532ms/step - loss: 0.2671 - accuracy: 0.9154 - val_loss: 0.6234 - val_accuracy: 0.8258\n",
            "Epoch 31/100\n",
            "26/26 [==============================] - 14s 533ms/step - loss: 0.2607 - accuracy: 0.9214 - val_loss: 0.6245 - val_accuracy: 0.8371\n",
            "Epoch 32/100\n",
            "26/26 [==============================] - 14s 530ms/step - loss: 0.2393 - accuracy: 0.9274 - val_loss: 0.5816 - val_accuracy: 0.8427\n",
            "Epoch 33/100\n",
            "26/26 [==============================] - 14s 527ms/step - loss: 0.2732 - accuracy: 0.9105 - val_loss: 0.5943 - val_accuracy: 0.8315\n",
            "Epoch 34/100\n",
            "26/26 [==============================] - 14s 528ms/step - loss: 0.2678 - accuracy: 0.9154 - val_loss: 0.6414 - val_accuracy: 0.8258\n",
            "Epoch 35/100\n",
            "26/26 [==============================] - 14s 530ms/step - loss: 0.2243 - accuracy: 0.9311 - val_loss: 0.5906 - val_accuracy: 0.8371\n",
            "Epoch 36/100\n",
            "26/26 [==============================] - 14s 528ms/step - loss: 0.2162 - accuracy: 0.9359 - val_loss: 0.5992 - val_accuracy: 0.8596\n",
            "Epoch 37/100\n",
            "26/26 [==============================] - 14s 528ms/step - loss: 0.2576 - accuracy: 0.9202 - val_loss: 0.6072 - val_accuracy: 0.8483\n",
            "Epoch 38/100\n",
            "26/26 [==============================] - 14s 527ms/step - loss: 0.1764 - accuracy: 0.9480 - val_loss: 0.6412 - val_accuracy: 0.8652\n",
            "Epoch 39/100\n",
            "26/26 [==============================] - 14s 525ms/step - loss: 0.1988 - accuracy: 0.9456 - val_loss: 0.6225 - val_accuracy: 0.8483\n",
            "Epoch 40/100\n",
            "26/26 [==============================] - 14s 525ms/step - loss: 0.2452 - accuracy: 0.9081 - val_loss: 0.6447 - val_accuracy: 0.8483\n",
            "Epoch 41/100\n",
            "26/26 [==============================] - 14s 530ms/step - loss: 0.2099 - accuracy: 0.9262 - val_loss: 0.6986 - val_accuracy: 0.8202\n",
            "Epoch 42/100\n",
            "26/26 [==============================] - 14s 529ms/step - loss: 0.1925 - accuracy: 0.9444 - val_loss: 0.6406 - val_accuracy: 0.8483\n",
            "Epoch 43/100\n",
            "26/26 [==============================] - 14s 533ms/step - loss: 0.1979 - accuracy: 0.9395 - val_loss: 0.6720 - val_accuracy: 0.8427\n",
            "Epoch 44/100\n",
            "26/26 [==============================] - 14s 527ms/step - loss: 0.2163 - accuracy: 0.9407 - val_loss: 0.6728 - val_accuracy: 0.8483\n",
            "Epoch 45/100\n",
            "26/26 [==============================] - 14s 522ms/step - loss: 0.1759 - accuracy: 0.9420 - val_loss: 0.5925 - val_accuracy: 0.8427\n",
            "Epoch 46/100\n",
            "26/26 [==============================] - 14s 530ms/step - loss: 0.1767 - accuracy: 0.9456 - val_loss: 0.6560 - val_accuracy: 0.8090\n",
            "Epoch 47/100\n",
            "26/26 [==============================] - 14s 525ms/step - loss: 0.1844 - accuracy: 0.9528 - val_loss: 0.6741 - val_accuracy: 0.8146\n",
            "Epoch 48/100\n",
            "26/26 [==============================] - 14s 525ms/step - loss: 0.2413 - accuracy: 0.9190 - val_loss: 0.7231 - val_accuracy: 0.8315\n",
            "Epoch 49/100\n",
            "26/26 [==============================] - 14s 528ms/step - loss: 0.1889 - accuracy: 0.9432 - val_loss: 0.6779 - val_accuracy: 0.8315\n",
            "Epoch 50/100\n",
            "26/26 [==============================] - 14s 524ms/step - loss: 0.2079 - accuracy: 0.9311 - val_loss: 0.6321 - val_accuracy: 0.8596\n",
            "Epoch 51/100\n",
            "26/26 [==============================] - 14s 522ms/step - loss: 0.2084 - accuracy: 0.9395 - val_loss: 0.6749 - val_accuracy: 0.8652\n",
            "Epoch 52/100\n",
            "26/26 [==============================] - 14s 521ms/step - loss: 0.1834 - accuracy: 0.9287 - val_loss: 0.6154 - val_accuracy: 0.8483\n",
            "Epoch 53/100\n",
            "26/26 [==============================] - 14s 531ms/step - loss: 0.1780 - accuracy: 0.9444 - val_loss: 0.6461 - val_accuracy: 0.8539\n",
            "Epoch 54/100\n",
            "26/26 [==============================] - 14s 523ms/step - loss: 0.1810 - accuracy: 0.9432 - val_loss: 0.6197 - val_accuracy: 0.8652\n",
            "Epoch 55/100\n",
            "26/26 [==============================] - 14s 524ms/step - loss: 0.1954 - accuracy: 0.9287 - val_loss: 0.6787 - val_accuracy: 0.8371\n",
            "Epoch 56/100\n",
            "26/26 [==============================] - 14s 521ms/step - loss: 0.1777 - accuracy: 0.9480 - val_loss: 0.7070 - val_accuracy: 0.8596\n",
            "Epoch 57/100\n",
            "26/26 [==============================] - 14s 524ms/step - loss: 0.1711 - accuracy: 0.9492 - val_loss: 0.6598 - val_accuracy: 0.8596\n",
            "Epoch 58/100\n",
            "26/26 [==============================] - 14s 519ms/step - loss: 0.1826 - accuracy: 0.9371 - val_loss: 0.6684 - val_accuracy: 0.8596\n",
            "Epoch 59/100\n",
            "26/26 [==============================] - 14s 529ms/step - loss: 0.1557 - accuracy: 0.9541 - val_loss: 0.6923 - val_accuracy: 0.8596\n",
            "Epoch 60/100\n",
            "26/26 [==============================] - 14s 524ms/step - loss: 0.1869 - accuracy: 0.9420 - val_loss: 0.6706 - val_accuracy: 0.8539\n",
            "Epoch 61/100\n",
            "26/26 [==============================] - 14s 526ms/step - loss: 0.1496 - accuracy: 0.9516 - val_loss: 0.6658 - val_accuracy: 0.8427\n",
            "Epoch 62/100\n",
            "26/26 [==============================] - 14s 521ms/step - loss: 0.1886 - accuracy: 0.9420 - val_loss: 0.6531 - val_accuracy: 0.8483\n",
            "Epoch 63/100\n",
            "26/26 [==============================] - 14s 527ms/step - loss: 0.1916 - accuracy: 0.9492 - val_loss: 0.6249 - val_accuracy: 0.8483\n",
            "Epoch 64/100\n",
            "26/26 [==============================] - 14s 525ms/step - loss: 0.2287 - accuracy: 0.9371 - val_loss: 0.6370 - val_accuracy: 0.8596\n",
            "Epoch 65/100\n",
            "26/26 [==============================] - 14s 527ms/step - loss: 0.1721 - accuracy: 0.9395 - val_loss: 0.6211 - val_accuracy: 0.8596\n",
            "Epoch 66/100\n",
            "26/26 [==============================] - 14s 527ms/step - loss: 0.1529 - accuracy: 0.9553 - val_loss: 0.6110 - val_accuracy: 0.8708\n",
            "Epoch 67/100\n",
            "26/26 [==============================] - 14s 522ms/step - loss: 0.1618 - accuracy: 0.9468 - val_loss: 0.6608 - val_accuracy: 0.8371\n",
            "Epoch 68/100\n",
            "26/26 [==============================] - 14s 525ms/step - loss: 0.1607 - accuracy: 0.9504 - val_loss: 0.6409 - val_accuracy: 0.8539\n",
            "Epoch 69/100\n",
            "26/26 [==============================] - 14s 524ms/step - loss: 0.1466 - accuracy: 0.9468 - val_loss: 0.6573 - val_accuracy: 0.8539\n",
            "Epoch 70/100\n",
            "26/26 [==============================] - 14s 531ms/step - loss: 0.1770 - accuracy: 0.9383 - val_loss: 0.6580 - val_accuracy: 0.8427\n",
            "Epoch 71/100\n",
            "26/26 [==============================] - 14s 523ms/step - loss: 0.1777 - accuracy: 0.9395 - val_loss: 0.6370 - val_accuracy: 0.8539\n",
            "Epoch 72/100\n",
            "26/26 [==============================] - 14s 528ms/step - loss: 0.1809 - accuracy: 0.9456 - val_loss: 0.7631 - val_accuracy: 0.8539\n",
            "Epoch 73/100\n",
            "26/26 [==============================] - 14s 520ms/step - loss: 0.1600 - accuracy: 0.9407 - val_loss: 0.7508 - val_accuracy: 0.8371\n",
            "Epoch 74/100\n",
            "26/26 [==============================] - 14s 522ms/step - loss: 0.1695 - accuracy: 0.9480 - val_loss: 0.6734 - val_accuracy: 0.8539\n"
          ]
        }
      ],
      "source": [
        "# ------------ VGG16 Model -----------------\n",
        "model_runv = vggmodel.fit(\n",
        "  trainv,\n",
        "  validation_data=valv,\n",
        "  epochs=100,\n",
        "  callbacks=[earlystopping]\n",
        ")"
      ]
    },
    {
      "cell_type": "code",
      "execution_count": 22,
      "metadata": {
        "colab": {
          "base_uri": "https://localhost:8080/",
          "height": 316
        },
        "id": "ilUAQAT9_mG_",
        "outputId": "be4c2208-0ef4-480c-fcbb-0bf9b97864a3"
      },
      "outputs": [
        {
          "data": {
            "text/plain": [
              "<Figure size 432x288 with 0 Axes>"
            ]
          },
          "execution_count": 22,
          "metadata": {},
          "output_type": "execute_result"
        },
        {
          "data": {
            "image/png": "[encoded data removed]",
            "text/plain": [
              "<Figure size 432x288 with 1 Axes>"
            ]
          },
          "metadata": {
            "needs_background": "light"
          },
          "output_type": "display_data"
        },
        {
          "data": {
            "text/plain": [
              "<Figure size 432x288 with 0 Axes>"
            ]
          },
          "metadata": {},
          "output_type": "display_data"
        }
      ],
      "source": [
        "# ------------ VGG16 Model -----------------\n",
        "accuracies = model_runv.history['accuracy']\n",
        "\n",
        "trainingerror = [];\n",
        "for acc in accuracies:\n",
        "  trainingerror.append(1-acc)\n",
        "\n",
        "valaccuracies = model_runv.history['val_accuracy']\n",
        "\n",
        "valtrainingerror = [];\n",
        "for acc in valaccuracies:\n",
        "  valtrainingerror.append(1-acc)\n",
        "\n",
        "epochs = [];\n",
        "for i in range(len(trainingerror)):\n",
        "  epochs.append(i)\n",
        "\n",
        "plt.plot(epochs, trainingerror, 'r', label='Training Error')\n",
        "plt.plot(epochs, valtrainingerror, 'b', label='Validation Error')\n",
        "plt.title('VGG Errors Vs. Epochs')\n",
        "plt.legend()\n",
        "\n",
        "plt.figure()"
      ]
    },
    {
      "cell_type": "markdown",
      "metadata": {
        "id": "NatOwCD5v_8y"
      },
      "source": [
        "1c(v)."
      ]
    },
    {
      "cell_type": "code",
      "execution_count": null,
      "metadata": {
        "colab": {
          "base_uri": "https://localhost:8080/"
        },
        "id": "ddc1KaooATES",
        "outputId": "a1700784-e4c4-45f4-c7a2-cc3cce42f6ba"
      },
      "outputs": [
        {
          "name": "stdout",
          "output_type": "stream",
          "text": [
            "6/6 [==============================] - 2s 186ms/step\n",
            "              precision    recall  f1-score   support\n",
            "\n",
            "           0       0.86      1.00      0.92         6\n",
            "           1       0.90      1.00      0.95         9\n",
            "           2       1.00      1.00      1.00         8\n",
            "           3       1.00      1.00      1.00         8\n",
            "           4       0.90      1.00      0.95         9\n",
            "           5       0.82      1.00      0.90         9\n",
            "           6       1.00      1.00      1.00         9\n",
            "           7       0.88      0.78      0.82         9\n",
            "           8       1.00      1.00      1.00         9\n",
            "           9       0.90      1.00      0.95         9\n",
            "          10       1.00      0.78      0.88         9\n",
            "          11       1.00      0.89      0.94         9\n",
            "          12       0.88      0.78      0.82         9\n",
            "          13       1.00      0.78      0.88         9\n",
            "          14       0.70      0.78      0.74         9\n",
            "          15       0.75      0.75      0.75         8\n",
            "          16       0.89      1.00      0.94         8\n",
            "          17       1.00      0.88      0.93         8\n",
            "          18       1.00      0.78      0.88         9\n",
            "          19       0.80      1.00      0.89         8\n",
            "\n",
            "    accuracy                           0.91       171\n",
            "   macro avg       0.91      0.91      0.91       171\n",
            "weighted avg       0.91      0.91      0.91       171\n",
            "\n"
          ]
        }
      ],
      "source": [
        "# ------------ EfficientNet Model -----------------\n",
        "ypred = np.argmax(effmodel.predict(test), axis=1)\n",
        "\n",
        "ytrue= tf.concat([y for x, y in test], axis = 0).numpy()\n",
        "ytrue = np.argmax(ytrue, axis = 1)\n",
        "print(classification_report(ytrue, ypred))"
      ]
    },
    {
      "cell_type": "code",
      "execution_count": 27,
      "metadata": {
        "colab": {
          "base_uri": "https://localhost:8080/"
        },
        "id": "6wtciXGkFTZB",
        "outputId": "1590ba5d-3f77-4ad4-f2b2-630ff4b47b88"
      },
      "outputs": [
        {
          "name": "stdout",
          "output_type": "stream",
          "text": [
            "6/6 [==============================] - 1s 201ms/step\n",
            "              precision    recall  f1-score   support\n",
            "\n",
            "           0       1.00      1.00      1.00         6\n",
            "           1       1.00      0.67      0.80         9\n",
            "           2       1.00      1.00      1.00         8\n",
            "           3       1.00      0.75      0.86         8\n",
            "           4       0.75      0.67      0.71         9\n",
            "           5       0.80      0.89      0.84         9\n",
            "           6       1.00      0.89      0.94         9\n",
            "           7       0.90      1.00      0.95         9\n",
            "           8       1.00      0.89      0.94         9\n",
            "           9       0.82      1.00      0.90         9\n",
            "          10       0.89      0.89      0.89         9\n",
            "          11       0.78      0.78      0.78         9\n",
            "          12       0.86      0.67      0.75         9\n",
            "          13       0.58      0.78      0.67         9\n",
            "          14       0.70      0.78      0.74         9\n",
            "          15       0.67      0.75      0.71         8\n",
            "          16       0.89      1.00      0.94         8\n",
            "          17       1.00      0.88      0.93         8\n",
            "          18       0.89      0.89      0.89         9\n",
            "          19       0.89      1.00      0.94         8\n",
            "\n",
            "    accuracy                           0.85       171\n",
            "   macro avg       0.87      0.86      0.86       171\n",
            "weighted avg       0.87      0.85      0.85       171\n",
            "\n"
          ]
        }
      ],
      "source": [
        "# ------------ VGG16 Model -----------------\n",
        "ypredv = np.argmax(vggmodel.predict(testv), axis=1)\n",
        "ytruev = np.argmax(testv.classes, axis=0)\n",
        "print(classification_report(testv.classes, ypredv))"
      ]
    },
    {
      "cell_type": "markdown",
      "metadata": {
        "id": "hO_7a63WymIh"
      },
      "source": [
        "References"
      ]
    },
    {
      "cell_type": "markdown",
      "metadata": {
        "id": "CghLgcS9yp31"
      },
      "source": [
        "https://www.geeksforgeeks.org/reading-image-opencv-using-python/\n",
        "\n",
        "https://pynative.com/python-random-choice/#h-select-a-random-item-from-a-list\n",
        "\n",
        "https://stackoverflow.com/questions/56449262/how-to-upload-folders-to-google-colab\n",
        "\n",
        "https://linuxtut.com/en/540d3be3e570cbca644e/\n",
        "\n",
        "https://stackoverflow.com/questions/42045362/change-contrast-of-image-in-pil\n",
        "\n",
        "https://pythonexamples.org/python-pillow-adjust-image-contrast/#3\n",
        "\n",
        "https://www.geeksforgeeks.org/python-pil-image-resize-method/\n",
        "\n",
        "https://www.geeksforgeeks.org/python-pil-paste-and-rotate-method/\n",
        "\n",
        "https://www.geeksforgeeks.org/python-pil-image-crop-method/\n",
        "\n",
        "https://www.w3schools.com/python/pandas/ref_df_info.asp#:~:text=The%20info()%20method%20prints,method%20actually%20prints%20the%20info.\n",
        "\n",
        "https://www.geeksforgeeks.org/creating-a-pandas-dataframe-using-list-of-tuples/\n",
        "\n",
        "https://stackoverflow.com/questions/60034512/cant-show-an-image-using-pil-on-google-colab\n",
        "\n",
        "https://www.geeksforgeeks.org/python-pil-image-show-method/\n",
        "\n",
        "https://www.folkstalk.com/tech/resize-multiple-images-to-same-size-python-with-code-examples/\n",
        "\n",
        "https://stackoverflow.com/questions/30654509/how-to-make-two-different-image-size-equally\n",
        "\n",
        "https://stackoverflow.com/questions/37584977/translate-image-using-pil\n",
        "\n",
        "https://stackoverflow.com/questions/53074712/how-to-split-folder-of-images-into-test-training-validation-sets-with-stratified\n",
        "\n",
        "https://www.tensorflow.org/api_docs/python/tf/keras/utils/image_dataset_from_directory\n",
        "\n",
        "https://github.com/Tony607/efficientnet_keras_transfer_learning/blob/master/Keras_efficientnet_transfer_learning.ipynb\n",
        "\n",
        "https://stackoverflow.com/questions/66386561/keras-classification-report-accuracy-is-different-between-model-predict-accurac"
      ]
    }
  ],
  "metadata": {
    "accelerator": "GPU",
    "colab": {
      "provenance": []
    },
    "gpuClass": "standard",
    "kernelspec": {
      "display_name": "Python 3.8.13 ('dsci552')",
      "language": "python",
      "name": "python3"
    },
    "language_info": {
      "name": "python",
      "version": "3.8.13"
    },
    "vscode": {
      "interpreter": {
        "hash": "714149b94df860ac6065d03a6b9e9090d187bab47473d63b239cc2644ed12507"
      }
    }
  },
  "nbformat": 4,
  "nbformat_minor": 0
}
